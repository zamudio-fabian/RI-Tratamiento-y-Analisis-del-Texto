{
 "cells": [
  {
   "cell_type": "markdown",
   "metadata": {},
   "source": [
    "# Ejercicio 6\n",
    "Usando el tokenizador extraigo la lista de términos del documento."
   ]
  },
  {
   "cell_type": "code",
   "execution_count": 1,
   "metadata": {
    "collapsed": false
   },
   "outputs": [
    {
     "name": "stdout",
     "output_type": "stream",
     "text": [
      "ANÁLISIS DE DOCUMENTOS EN PROGRESO\n",
      "ANÁLISIS DE DOCUMENTOS FINALIZADO\n"
     ]
    },
    {
     "data": {
      "text/plain": [
       "True"
      ]
     },
     "execution_count": 1,
     "metadata": {},
     "output_type": "execute_result"
    }
   ],
   "source": [
    "# -*- coding: utf-8 -*-\n",
    "import numpy as np\n",
    "from tokenizador_ej6 import Tokenizador\n",
    "tokenizador = Tokenizador(\"cervantes\", None, False, None, 3, 15)\n",
    "tokenizador.analizar_directorio()"
   ]
  },
  {
   "cell_type": "markdown",
   "metadata": {},
   "source": [
    "Ordeno la lista de términos en función de sus frecuencias absolutas para obtener el ranking."
   ]
  },
  {
   "cell_type": "code",
   "execution_count": 11,
   "metadata": {
    "collapsed": true
   },
   "outputs": [],
   "source": [
    "terminos_rankeados = sorted(tokenizador.terminos.keys(), key=lambda x: (tokenizador.terminos[x][\"CF\"]), reverse=True)\n",
    "frecuencias = []\n",
    "for termino in terminos_rankeados:\n",
    "    frecuencias.append(tokenizador.terminos[termino][\"CF\"])\n",
    "ranking = xrange(1, len(frecuencias) + 1)"
   ]
  },
  {
   "cell_type": "markdown",
   "metadata": {},
   "source": [
    "Defino una función que calcula la recta de ajuste de la distribución de frecuencias logarítmica y permite obtener la posición en el ranking de una frecuencia dada usando los coeficientes de dicha recta para despejar el valor buscado."
   ]
  },
  {
   "cell_type": "code",
   "execution_count": 12,
   "metadata": {
    "collapsed": false
   },
   "outputs": [],
   "source": [
    "def obtener_ranking_de_frecuencia(ranking, frecuencias, frecuencia_buscada):\n",
    "    x_log = np.log10(ranking)\n",
    "    y_log = np.log10(frecuencias)\n",
    "    recta_ajuste = np.polyfit(x_log, y_log, 1)\n",
    "    pendiente = recta_ajuste[0]\n",
    "    ordenada = recta_ajuste[1]\n",
    "    frecuencia_buscada_log = np.log10(frecuencia_buscada)\n",
    "    ranking_buscado_log = (frecuencia_buscada_log - ordenada) / float(pendiente)\n",
    "    return int(pow(10, ranking_buscado_log))"
   ]
  },
  {
   "cell_type": "markdown",
   "metadata": {},
   "source": [
    "Calculo la posición en el ranking para un término de frecuencia menor a 5."
   ]
  },
  {
   "cell_type": "code",
   "execution_count": 13,
   "metadata": {
    "collapsed": false
   },
   "outputs": [
    {
     "name": "stdout",
     "output_type": "stream",
     "text": [
      "Posición: 5327\n"
     ]
    }
   ],
   "source": [
    "ranking_frecuencia_menor_5 = obtener_ranking_de_frecuencia(ranking, frecuencias, 4)\n",
    "print u\"Posición: \" + str(ranking_frecuencia_menor_5)"
   ]
  },
  {
   "cell_type": "markdown",
   "metadata": {},
   "source": [
    "Defino una función que suma las frecuencias de todos los términos con un ranking igual o superior al establecido, para poder determinar qué porcentaje de las frecuencias seria omitido."
   ]
  },
  {
   "cell_type": "code",
   "execution_count": 14,
   "metadata": {
    "collapsed": false
   },
   "outputs": [],
   "source": [
    "def calcular_porcentaje_de_frecuencia(frecuencias, ranking_buscado):\n",
    "    frecuencia_total = sum(frecuencias)\n",
    "    suma_frecuencia_buscada = 0\n",
    "    for posicion, frecuencia in enumerate(frecuencias):\n",
    "        if posicion + 1 >= ranking_buscado:\n",
    "            suma_frecuencia_buscada += frecuencia\n",
    "    return suma_frecuencia_buscada / float(frecuencia_total)"
   ]
  },
  {
   "cell_type": "markdown",
   "metadata": {},
   "source": [
    "Calculo el porcentaje que estaría omitiendo según Zipf si eliminara los términos con frecuencia menor a 5."
   ]
  },
  {
   "cell_type": "code",
   "execution_count": 15,
   "metadata": {
    "collapsed": false
   },
   "outputs": [
    {
     "name": "stdout",
     "output_type": "stream",
     "text": [
      "PORCENTAJE OMITIDO ZIPF: 13.83%\n"
     ]
    }
   ],
   "source": [
    "porcentaje_frecuencia_menor_5 = calcular_porcentaje_de_frecuencia(frecuencias, ranking_frecuencia_menor_5) * 100\n",
    "print \"PORCENTAJE OMITIDO ZIPF: %.2f%%\" % porcentaje_frecuencia_menor_5"
   ]
  },
  {
   "cell_type": "markdown",
   "metadata": {},
   "source": [
    "Ahora defino una función que calcula realmente cual es frecuencia omitida al quitar todos los términos cuya frecuencia sea menor o igual a la establecida."
   ]
  },
  {
   "cell_type": "code",
   "execution_count": 16,
   "metadata": {
    "collapsed": false
   },
   "outputs": [],
   "source": [
    "def calcular_porcentaje_de_frecuencia(frecuencias, frecuencia_buscada):\n",
    "    frecuencia_total = sum(frecuencias)\n",
    "    suma_frecuencia_buscada = 0\n",
    "    for frecuencia in frecuencias:\n",
    "        if frecuencia <= frecuencia_buscada:\n",
    "            suma_frecuencia_buscada += frecuencia\n",
    "    return suma_frecuencia_buscada / float(frecuencia_total)"
   ]
  },
  {
   "cell_type": "markdown",
   "metadata": {},
   "source": [
    "Calculo el porcentaje que estoy omitiendo realmente al eliminar los términos con frecuencia menor a 5."
   ]
  },
  {
   "cell_type": "code",
   "execution_count": 17,
   "metadata": {
    "collapsed": false
   },
   "outputs": [
    {
     "name": "stdout",
     "output_type": "stream",
     "text": [
      "PORCENTAJE OMITIDO REAL: 14.15%\n"
     ]
    }
   ],
   "source": [
    "porcentaje_real_frecuencia_menor_5 = calcular_porcentaje_de_frecuencia(frecuencias, 4) * 100\n",
    "print \"PORCENTAJE OMITIDO REAL: %.2f%%\" % porcentaje_real_frecuencia_menor_5"
   ]
  },
  {
   "cell_type": "markdown",
   "metadata": {},
   "source": [
    "El porcentaje de términos realmente omitidos resulta ser muy similar al obtenido por la predicción de la ley de Zipf."
   ]
  },
  {
   "cell_type": "code",
   "execution_count": null,
   "metadata": {
    "collapsed": true
   },
   "outputs": [],
   "source": []
  }
 ],
 "metadata": {
  "kernelspec": {
   "display_name": "Python 2",
   "language": "python",
   "name": "python2"
  },
  "language_info": {
   "codemirror_mode": {
    "name": "ipython",
    "version": 2
   },
   "file_extension": ".py",
   "mimetype": "text/x-python",
   "name": "python",
   "nbconvert_exporter": "python",
   "pygments_lexer": "ipython2",
   "version": "2.7.11"
  }
 },
 "nbformat": 4,
 "nbformat_minor": 0
}