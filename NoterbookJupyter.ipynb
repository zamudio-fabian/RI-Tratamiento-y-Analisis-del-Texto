{
 "cells": [
  {
   "cell_type": "code",
   "execution_count": null,
   "metadata": {},
   "outputs": [],
   "source": [
    "#!/usr/bin/env python\n",
    "# -*- coding: utf-8 -*-\n",
    "%matplotlib inline\n",
    "import numpy as np\n",
    "import operator\n",
    "from matplotlib import pyplot as plt\n",
    "from repositories.CorpusRepository import *\n",
    "from repositories.TokenRepository import *\n",
    "from repositories.EstadisticasRepository import *\n",
    "\n",
    "path = '/Users/macbookpro/code/RI-Tratamiento-y-Analisis-del-Texto/demo-data'\n",
    "corpusRepository = CorpusRepository(path)\n",
    "tokenRepository = TokenRepository()\n",
    "pathVacias = None\n",
    "\n",
    "documentos = corpusRepository.getListDocuments()\n",
    "response = tokenRepository.tokenizar(documentos,pathVacias = pathVacias)\n",
    "\n",
    "lista = sorted(response['terminos'].items(), key=operator.itemgetter(1) ,reverse=True)\n",
    "\n",
    "frecuencias = []\n",
    "for termino in lista:\n",
    "    frecuencias.append(termino[1]['CF'])\n",
    "\n",
    "ranking = xrange(1, len(frecuencias) + 1)"
   ]
  },
  {
   "cell_type": "markdown",
   "metadata": {},
   "source": [
    "Para cumplir con las consignas definimos una función que tenga los parametros: Ranking, frecuencias y la frecuencia buscasda y devuelva la posición en el ranking que la frecuencias sean menor a la frecuencia buscada.\n",
    "\n",
    "#### Lógica:\n",
    "1. Pasamos los tres parametros a logaritmo para hacer la busqueda más sencilla.\n",
    "2. Buscamos la recta de ajuste para los logaritmos de las frecuencias y ranking para obtener la pendiente y ordenada.\n",
    "3. Teniendo en mente la función FBL = xP + O donde:\n",
    " FBL = Frecuencia Búscada Logarítmica\n",
    " P = Pendiente\n",
    " O = Ordenada al origen\n",
    "4. Se cuncluye que x = (FBL - O) / P\n",
    "5. Volvemos a pasar a representación lineal"
   ]
  },
  {
   "cell_type": "code",
   "execution_count": 2,
   "metadata": {},
   "outputs": [
    {
     "name": "stdout",
     "output_type": "stream",
     "text": [
      "X = 3734\n"
     ]
    }
   ],
   "source": [
    "def getRankingFrecuencias(ranking, frecuencias, frecuencia_buscada):\n",
    "    x_log = np.log10(ranking)\n",
    "    y_log = np.log10(frecuencias)\n",
    "    recta_ajuste = np.polyfit(x_log, y_log, 1)\n",
    "    pendiente = recta_ajuste[0]\n",
    "    ordenada = recta_ajuste[1]\n",
    "    frecuencia_buscada_log = np.log10(frecuencia_buscada)\n",
    "    \n",
    "    # xP + O = FBL -> x = (FBL - O) / P\n",
    "    ranking_buscado_log = (frecuencia_buscada_log - ordenada) / pendiente\n",
    "    \n",
    "    # Lo pasamos a escala lineal\n",
    "    return int(pow(10, ranking_buscado_log))\n",
    "\n",
    "frecuencia_buscada = 4\n",
    "x = getRankingFrecuencias(ranking, frecuencias, frecuencia_buscada)\n",
    "print \"X = \" + str(x)"
   ]
  },
  {
   "cell_type": "markdown",
   "metadata": {},
   "source": [
    "Defino una función que suma las frecuencias de todos los términos con un ranking igual o superior al establecido, para poder determinar qué porcentaje de las frecuencias seria omitido.\n",
    "\n",
    "Con el valor obtenido en X recorremos las frecuencuas hasta llegar a la posición obtenida y sumamos las frecuencias para luego comparar con lo omitido realmente.\n",
    "\n",
    "#### Lógica\n",
    "\n",
    "1. Enumeramos las frecuencias y la recorremos\n",
    "2. Por cada item, si la posición es mayor al ranking buscado sumamos la frecuencia\n",
    "3. Devolvemos el porcentaje que representa del total"
   ]
  },
  {
   "cell_type": "code",
   "execution_count": 3,
   "metadata": {},
   "outputs": [
    {
     "name": "stdout",
     "output_type": "stream",
     "text": [
      "PORCENTAJE OMITIDO ZIPF: 4.88%\n"
     ]
    }
   ],
   "source": [
    "frecuencia_total = sum(frecuencias)\n",
    "suma_frecuencia_buscada = 0\n",
    "for posicion, frecuencia in enumerate(frecuencias):\n",
    "    if posicion + 1 >= x:\n",
    "        suma_frecuencia_buscada += frecuencia\n",
    "porcentajeZipf = (suma_frecuencia_buscada / float(frecuencia_total))* 100\n",
    "\n",
    "print \"PORCENTAJE OMITIDO ZIPF: %.2f%%\" % porcentajeZipf"
   ]
  },
  {
   "cell_type": "markdown",
   "metadata": {},
   "source": [
    "Procedemos a calcular la suma de las frecuencias que tienen frecuencia menor a 5"
   ]
  },
  {
   "cell_type": "code",
   "execution_count": 4,
   "metadata": {},
   "outputs": [
    {
     "name": "stdout",
     "output_type": "stream",
     "text": [
      "PORCENTAJE OMITIDO REAL: 5.06%\n"
     ]
    }
   ],
   "source": [
    "frecuencia_total = sum(frecuencias)\n",
    "suma_frecuencia_buscada = 0\n",
    "for frecuencia in frecuencias:\n",
    "    if frecuencia <= frecuencia_buscada:\n",
    "        suma_frecuencia_buscada += frecuencia\n",
    "porcentajeReal = suma_frecuencia_buscada / float(frecuencia_total) * 100\n",
    "\n",
    "print \"PORCENTAJE OMITIDO REAL: %.2f%%\" % porcentajeReal "
   ]
  },
  {
   "cell_type": "markdown",
   "metadata": {},
   "source": [
    "### Conclusión\n",
    "\n",
    "Comparando ambos valores ZIPF = 4.88 y REAL = 5.06% se observa que son muy similares. Confirmando la predicción de la ley de Zipf."
   ]
  }
 ],
 "metadata": {
  "kernelspec": {
   "display_name": "Python 2",
   "language": "python",
   "name": "python2"
  },
  "language_info": {
   "codemirror_mode": {
    "name": "ipython",
    "version": 2
   },
   "file_extension": ".py",
   "mimetype": "text/x-python",
   "name": "python",
   "nbconvert_exporter": "python",
   "pygments_lexer": "ipython2",
   "version": "2.7.13"
  }
 },
 "nbformat": 4,
 "nbformat_minor": 2
}
