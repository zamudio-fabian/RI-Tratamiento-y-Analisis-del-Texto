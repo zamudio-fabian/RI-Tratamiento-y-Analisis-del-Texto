{
 "cells": [
  {
   "cell_type": "code",
   "execution_count": 1,
   "metadata": {},
   "outputs": [
    {
     "name": "stdout",
     "output_type": "stream",
     "text": [
      "100% ▏██████████████████████████████████████████████████▕\n",
      "\n"
     ]
    },
    {
     "ename": "IOError",
     "evalue": "[Errno 2] No such file or directory: 'results/terminos.txt'",
     "output_type": "error",
     "traceback": [
      "\u001b[0;31m---------------------------------------------------------------------------\u001b[0m",
      "\u001b[0;31mIOError\u001b[0m                                   Traceback (most recent call last)",
      "\u001b[0;32m<ipython-input-1-fa251afd6d7a>\u001b[0m in \u001b[0;36m<module>\u001b[0;34m()\u001b[0m\n\u001b[1;32m     15\u001b[0m \u001b[0;34m\u001b[0m\u001b[0m\n\u001b[1;32m     16\u001b[0m \u001b[0mdocumentos\u001b[0m \u001b[0;34m=\u001b[0m \u001b[0mcorpusRepository\u001b[0m\u001b[0;34m.\u001b[0m\u001b[0mgetListDocuments\u001b[0m\u001b[0;34m(\u001b[0m\u001b[0;34m)\u001b[0m\u001b[0;34m\u001b[0m\u001b[0m\n\u001b[0;32m---> 17\u001b[0;31m \u001b[0mresponse\u001b[0m \u001b[0;34m=\u001b[0m \u001b[0mtokenRepository\u001b[0m\u001b[0;34m.\u001b[0m\u001b[0mtokenizar\u001b[0m\u001b[0;34m(\u001b[0m\u001b[0mdocumentos\u001b[0m\u001b[0;34m,\u001b[0m\u001b[0mpathVacias\u001b[0m \u001b[0;34m=\u001b[0m \u001b[0mpathVacias\u001b[0m\u001b[0;34m)\u001b[0m\u001b[0;34m\u001b[0m\u001b[0m\n\u001b[0m\u001b[1;32m     18\u001b[0m \u001b[0;34m\u001b[0m\u001b[0m\n\u001b[1;32m     19\u001b[0m \u001b[0mlista\u001b[0m \u001b[0;34m=\u001b[0m \u001b[0msorted\u001b[0m\u001b[0;34m(\u001b[0m\u001b[0mresponse\u001b[0m\u001b[0;34m[\u001b[0m\u001b[0;34m'terminos'\u001b[0m\u001b[0;34m]\u001b[0m\u001b[0;34m.\u001b[0m\u001b[0mitems\u001b[0m\u001b[0;34m(\u001b[0m\u001b[0;34m)\u001b[0m\u001b[0;34m,\u001b[0m \u001b[0mkey\u001b[0m\u001b[0;34m=\u001b[0m\u001b[0moperator\u001b[0m\u001b[0;34m.\u001b[0m\u001b[0mitemgetter\u001b[0m\u001b[0;34m(\u001b[0m\u001b[0;36m1\u001b[0m\u001b[0;34m)\u001b[0m \u001b[0;34m,\u001b[0m\u001b[0mreverse\u001b[0m\u001b[0;34m=\u001b[0m\u001b[0mTrue\u001b[0m\u001b[0;34m)\u001b[0m\u001b[0;34m\u001b[0m\u001b[0m\n",
      "\u001b[0;32m/Users/macbookpro/code/RI-Tratamiento-y-Analisis-del-Texto/repositories/TokenRepository.py\u001b[0m in \u001b[0;36mtokenizar\u001b[0;34m(self, documentos, **options)\u001b[0m\n\u001b[1;32m    116\u001b[0m \u001b[0;34m\u001b[0m\u001b[0m\n\u001b[1;32m    117\u001b[0m         \u001b[0;32mprint\u001b[0m \u001b[0;34m'\\n'\u001b[0m\u001b[0;34m\u001b[0m\u001b[0m\n\u001b[0;32m--> 118\u001b[0;31m         \u001b[0mself\u001b[0m\u001b[0;34m.\u001b[0m\u001b[0msaveTerminosFile\u001b[0m\u001b[0;34m(\u001b[0m\u001b[0;34m)\u001b[0m\u001b[0;34m\u001b[0m\u001b[0m\n\u001b[0m\u001b[1;32m    119\u001b[0m         \u001b[0;31m# Armamos la respuesta\u001b[0m\u001b[0;34m\u001b[0m\u001b[0;34m\u001b[0m\u001b[0m\n\u001b[1;32m    120\u001b[0m         \u001b[0mresponse\u001b[0m \u001b[0;34m=\u001b[0m \u001b[0;34m{\u001b[0m\u001b[0;34m}\u001b[0m\u001b[0;34m\u001b[0m\u001b[0m\n",
      "\u001b[0;32m/Users/macbookpro/code/RI-Tratamiento-y-Analisis-del-Texto/repositories/TokenRepository.py\u001b[0m in \u001b[0;36msaveTerminosFile\u001b[0;34m(self)\u001b[0m\n\u001b[1;32m    168\u001b[0m \u001b[0;34m\u001b[0m\u001b[0m\n\u001b[1;32m    169\u001b[0m     \u001b[0;32mdef\u001b[0m \u001b[0msaveTerminosFile\u001b[0m\u001b[0;34m(\u001b[0m\u001b[0mself\u001b[0m\u001b[0;34m)\u001b[0m\u001b[0;34m:\u001b[0m\u001b[0;34m\u001b[0m\u001b[0m\n\u001b[0;32m--> 170\u001b[0;31m         \u001b[0;32mwith\u001b[0m \u001b[0mcodecs\u001b[0m\u001b[0;34m.\u001b[0m\u001b[0mopen\u001b[0m\u001b[0;34m(\u001b[0m\u001b[0mself\u001b[0m\u001b[0;34m.\u001b[0m\u001b[0mfileNameTerminos\u001b[0m\u001b[0;34m,\u001b[0m \u001b[0mmode\u001b[0m\u001b[0;34m=\u001b[0m\u001b[0;34m\"w\"\u001b[0m\u001b[0;34m,\u001b[0m \u001b[0mencoding\u001b[0m\u001b[0;34m=\u001b[0m\u001b[0;34m\"utf-8\"\u001b[0m\u001b[0;34m)\u001b[0m \u001b[0;32mas\u001b[0m \u001b[0marchivo\u001b[0m\u001b[0;34m:\u001b[0m\u001b[0;34m\u001b[0m\u001b[0m\n\u001b[0m\u001b[1;32m    171\u001b[0m             \u001b[0mindex\u001b[0m \u001b[0;34m=\u001b[0m \u001b[0;36m0\u001b[0m\u001b[0;34m\u001b[0m\u001b[0m\n\u001b[1;32m    172\u001b[0m             \u001b[0marchivo\u001b[0m\u001b[0;34m.\u001b[0m\u001b[0mwrite\u001b[0m\u001b[0;34m(\u001b[0m\u001b[0;34m'ID'\u001b[0m\u001b[0;34m.\u001b[0m\u001b[0mljust\u001b[0m\u001b[0;34m(\u001b[0m\u001b[0;36m6\u001b[0m\u001b[0;34m)\u001b[0m\u001b[0;34m)\u001b[0m\u001b[0;34m\u001b[0m\u001b[0m\n",
      "\u001b[0;32m/usr/local/Cellar/python/2.7.13_1/Frameworks/Python.framework/Versions/2.7/lib/python2.7/codecs.pyc\u001b[0m in \u001b[0;36mopen\u001b[0;34m(filename, mode, encoding, errors, buffering)\u001b[0m\n\u001b[1;32m    894\u001b[0m             \u001b[0;31m# Force opening of the file in binary mode\u001b[0m\u001b[0;34m\u001b[0m\u001b[0;34m\u001b[0m\u001b[0m\n\u001b[1;32m    895\u001b[0m             \u001b[0mmode\u001b[0m \u001b[0;34m=\u001b[0m \u001b[0mmode\u001b[0m \u001b[0;34m+\u001b[0m \u001b[0;34m'b'\u001b[0m\u001b[0;34m\u001b[0m\u001b[0m\n\u001b[0;32m--> 896\u001b[0;31m     \u001b[0mfile\u001b[0m \u001b[0;34m=\u001b[0m \u001b[0m__builtin__\u001b[0m\u001b[0;34m.\u001b[0m\u001b[0mopen\u001b[0m\u001b[0;34m(\u001b[0m\u001b[0mfilename\u001b[0m\u001b[0;34m,\u001b[0m \u001b[0mmode\u001b[0m\u001b[0;34m,\u001b[0m \u001b[0mbuffering\u001b[0m\u001b[0;34m)\u001b[0m\u001b[0;34m\u001b[0m\u001b[0m\n\u001b[0m\u001b[1;32m    897\u001b[0m     \u001b[0;32mif\u001b[0m \u001b[0mencoding\u001b[0m \u001b[0;32mis\u001b[0m \u001b[0mNone\u001b[0m\u001b[0;34m:\u001b[0m\u001b[0;34m\u001b[0m\u001b[0m\n\u001b[1;32m    898\u001b[0m         \u001b[0;32mreturn\u001b[0m \u001b[0mfile\u001b[0m\u001b[0;34m\u001b[0m\u001b[0m\n",
      "\u001b[0;31mIOError\u001b[0m: [Errno 2] No such file or directory: 'results/terminos.txt'"
     ]
    }
   ],
   "source": [
    "#!/usr/bin/env python\n",
    "# -*- coding: utf-8 -*-\n",
    "%matplotlib inline\n",
    "import numpy as np\n",
    "import operator\n",
    "from matplotlib import pyplot as plt\n",
    "from repositories.CorpusRepository import *\n",
    "from repositories.TokenRepository import *\n",
    "from repositories.EstadisticasRepository import *\n",
    "\n",
    "path = '/Users/macbookpro/code/RI-Tratamiento-y-Analisis-del-Texto/demo-data/'\n",
    "corpusRepository = CorpusRepository(path)\n",
    "tokenRepository = TokenRepository()\n",
    "pathVacias = None\n",
    "\n",
    "documentos = corpusRepository.getListDocuments()\n",
    "response = tokenRepository.tokenizar(documentos,pathVacias = pathVacias)\n",
    "\n",
    "lista = sorted(response['terminos'].items(), key=operator.itemgetter(1) ,reverse=True)\n",
    "\n",
    "frecuencias = []\n",
    "for termino in lista:\n",
    "    frecuencias.append(termino[1]['CF'])\n",
    "\n",
    "ranking = xrange(1, len(frecuencias) + 1)"
   ]
  },
  {
   "cell_type": "markdown",
   "metadata": {},
   "source": [
    "Para cumplir con las consignas definimos una función que tenga los parametros: Ranking, frecuencias y la frecuencia buscasda y devuelva la posición en el ranking que la frecuencias sean menor a la frecuencia buscada.\n",
    "\n",
    "#### Lógica:\n",
    "1. Pasamos los tres parametros a logaritmo para hacer la busqueda más sencilla.\n",
    "2. Buscamos la recta de ajuste para los logaritmos de las frecuencias y ranking para obtener la pendiente y ordenada.\n",
    "3. Teniendo en mente la función FBL = xP + O donde:\n",
    " FBL = Frecuencia Búscada Logarítmica\n",
    " P = Pendiente\n",
    " O = Ordenada al origen\n",
    "4. Se cuncluye que x = (FBL - O) / P\n",
    "5. Volvemos a pasar a representación lineal"
   ]
  },
  {
   "cell_type": "code",
   "execution_count": 2,
   "metadata": {},
   "outputs": [
    {
     "name": "stdout",
     "output_type": "stream",
     "text": [
      "X = 3734\n"
     ]
    }
   ],
   "source": [
    "def getRankingFrecuencias(ranking, frecuencias, frecuencia_buscada):\n",
    "    x_log = np.log10(ranking)\n",
    "    y_log = np.log10(frecuencias)\n",
    "    recta_ajuste = np.polyfit(x_log, y_log, 1)\n",
    "    pendiente = recta_ajuste[0]\n",
    "    ordenada = recta_ajuste[1]\n",
    "    frecuencia_buscada_log = np.log10(frecuencia_buscada)\n",
    "    \n",
    "    # xP + O = FBL -> x = (FBL - O) / P\n",
    "    ranking_buscado_log = (frecuencia_buscada_log - ordenada) / pendiente\n",
    "    \n",
    "    # Lo pasamos a escala lineal\n",
    "    return int(pow(10, ranking_buscado_log))\n",
    "\n",
    "frecuencia_buscada = 4\n",
    "x = getRankingFrecuencias(ranking, frecuencias, frecuencia_buscada)\n",
    "print \"X = \" + str(x)"
   ]
  },
  {
   "cell_type": "markdown",
   "metadata": {},
   "source": [
    "Defino una función que suma las frecuencias de todos los términos con un ranking igual o superior al establecido, para poder determinar qué porcentaje de las frecuencias seria omitido.\n",
    "\n",
    "Con el valor obtenido en X recorremos las frecuencuas hasta llegar a la posición obtenida y sumamos las frecuencias para luego comparar con lo omitido realmente.\n",
    "\n",
    "#### Lógica\n",
    "\n",
    "1. Enumeramos las frecuencias y la recorremos\n",
    "2. Por cada item, si la posición es mayor al ranking buscado sumamos la frecuencia\n",
    "3. Devolvemos el porcentaje que representa del total"
   ]
  },
  {
   "cell_type": "code",
   "execution_count": 3,
   "metadata": {},
   "outputs": [
    {
     "name": "stdout",
     "output_type": "stream",
     "text": [
      "PORCENTAJE OMITIDO ZIPF: 4.88%\n"
     ]
    }
   ],
   "source": [
    "frecuencia_total = sum(frecuencias)\n",
    "suma_frecuencia_buscada = 0\n",
    "for posicion, frecuencia in enumerate(frecuencias):\n",
    "    if posicion + 1 >= x:\n",
    "        suma_frecuencia_buscada += frecuencia\n",
    "porcentajeZipf = (suma_frecuencia_buscada / float(frecuencia_total))* 100\n",
    "\n",
    "print \"PORCENTAJE OMITIDO ZIPF: %.2f%%\" % porcentajeZipf"
   ]
  },
  {
   "cell_type": "markdown",
   "metadata": {},
   "source": [
    "Procedemos a calcular la suma de las frecuencias que tienen frecuencia menor a 5"
   ]
  },
  {
   "cell_type": "code",
   "execution_count": 4,
   "metadata": {},
   "outputs": [
    {
     "name": "stdout",
     "output_type": "stream",
     "text": [
      "PORCENTAJE OMITIDO REAL: 5.06%\n"
     ]
    }
   ],
   "source": [
    "frecuencia_total = sum(frecuencias)\n",
    "suma_frecuencia_buscada = 0\n",
    "for frecuencia in frecuencias:\n",
    "    if frecuencia <= frecuencia_buscada:\n",
    "        suma_frecuencia_buscada += frecuencia\n",
    "porcentajeReal = suma_frecuencia_buscada / float(frecuencia_total) * 100\n",
    "\n",
    "print \"PORCENTAJE OMITIDO REAL: %.2f%%\" % porcentajeReal "
   ]
  },
  {
   "cell_type": "markdown",
   "metadata": {},
   "source": [
    "### Conclusión\n",
    "\n",
    "Comparando ambos valores ZIPF = 4.88 y REAL = 5.06% se observa que son muy similares. Confirmando la predicción de la ley de Zipf."
   ]
  }
 ],
 "metadata": {
  "kernelspec": {
   "display_name": "Python 2",
   "language": "python",
   "name": "python2"
  },
  "language_info": {
   "codemirror_mode": {
    "name": "ipython",
    "version": 2
   },
   "file_extension": ".py",
   "mimetype": "text/x-python",
   "name": "python",
   "nbconvert_exporter": "python",
   "pygments_lexer": "ipython2",
   "version": "2.7.13"
  }
 },
 "nbformat": 4,
 "nbformat_minor": 2
}
